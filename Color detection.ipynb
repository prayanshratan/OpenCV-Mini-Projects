{
 "cells": [
  {
   "cell_type": "code",
   "execution_count": null,
   "metadata": {},
   "outputs": [],
   "source": [
    "#importing Modules\n",
    "\n",
    "import cv2\n",
    "import numpy as np\n",
    "\n",
    "#Capturing Video through webcam.\n",
    "\n",
    "cap = cv2.VideoCapture(1)\n",
    "\n",
    "while(1):\n",
    "        _, img = cap.read()\n",
    "\n",
    "        #converting frame(img) from BGR (Blue-Green-Red) to HSV (hue-saturation-value)\n",
    "\n",
    "        hsv = cv2.cvtColor(img, cv2.COLOR_BGR2HSV)\n",
    "        \n",
    "        #defining the range of Yellow color\n",
    "        yellow_lower = np.array([22,60,200],np.uint8)\n",
    "        yellow_upper = np.array([60,255,255],np.uint8)\n",
    "\n",
    "        #finding the range yellow colour in the image\n",
    "        yellow = cv2.inRange(hsv, yellow_lower, yellow_upper)\n",
    "\n",
    "        #Morphological transformation, Dilation         \n",
    "        kernal = np.ones((5 ,5), \"uint8\")\n",
    "\n",
    "        blue=cv2.dilate(yellow, kernal)\n",
    "\n",
    "        res=cv2.bitwise_and(img, img, mask = yellow)\n",
    "\n",
    "        #Tracking Colour (Yellow) \n",
    "        (_,contours,hierarchy)=cv2.findContours(yellow,cv2.RETR_TREE,cv2.CHAIN_APPROX_SIMPLE)\n",
    "        \n",
    "        for pic, contour in enumerate(contours):\n",
    "                area = cv2.contourArea(contour)\n",
    "                if(area>300):\n",
    "                        \n",
    "                        x,y,w,h = cv2.boundingRect(contour)     \n",
    "                        img = cv2.rectangle(img,(x,y),(x+w,y+h),(255,0,0),3)\n",
    "                        \n",
    "        cv2.imshow(\"Color Tracking\",img)\n",
    "        img = cv2.flip(img,1)\n",
    "        cv2.imshow(\"Yellow\",res)\n",
    "                               \n",
    "        if cv2.waitKey(10) & 0xFF == 27:\n",
    "                cap.release()\n",
    "                cv2.destroyAllWindows()\n",
    "                break"
   ]
  }
 ],
 "metadata": {
  "kernelspec": {
   "display_name": "Python 2",
   "language": "python",
   "name": "python2"
  },
  "language_info": {
   "codemirror_mode": {
    "name": "ipython",
    "version": 2
   },
   "file_extension": ".py",
   "mimetype": "text/x-python",
   "name": "python",
   "nbconvert_exporter": "python",
   "pygments_lexer": "ipython2",
   "version": "2.7.12"
  }
 },
 "nbformat": 4,
 "nbformat_minor": 2
}
